{
 "cells": [
  {
   "cell_type": "markdown",
   "metadata": {},
   "source": [
    "## Init & Data Preprocessing"
   ]
  },
  {
   "cell_type": "code",
   "execution_count": 1,
   "metadata": {
    "collapsed": true
   },
   "outputs": [],
   "source": [
    "#when you extract dataSet, plz make cycle one by one, assuring validation set has all 3 labels\n",
    "\n",
    "import os\n",
    "os.environ[\"CUDA_DEVICE_ORDER\"] = \"PCI_BUS_ID\"   # see issue #152\n",
    "os.environ[\"CUDA_VISIBLE_DEVICES\"] = \"\" # or 0 1 to use GPU\n",
    "import tensorflow as tf\n",
    "import pandas as pd\n",
    "import  numpy as np\n",
    "gpu_options = tf.GPUOptions(allow_growth=True)\n",
    "%matplotlib inline\n",
    "from sklearn.metrics.classification import confusion_matrix\n",
    "import itertools\n",
    "import matplotlib.pyplot as plt\n",
    "# sess = tf.Session(config=tf.ConfigProto(gpu_options=gpu_options))\n",
    "# sess = tf.Session(config=tf.ConfigProto(device_count={'gpu':0}))\n"
   ]
  },
  {
   "cell_type": "code",
   "execution_count": 2,
   "metadata": {
    "collapsed": true,
    "scrolled": true
   },
   "outputs": [],
   "source": [
    "train=pd.read_csv('trainall_data.csv', header=None) #pandas is easy to watch variables\n",
    "label=pd.read_csv('trainall_label.csv', header=None)\n",
    "tt=pd.read_csv('trainall_label2.csv', header=None)\n",
    "trainn=train.loc[:, 0:15]\n",
    "train1=trainn.values\n",
    "label1=label.values\n",
    "labell=tt.values\n",
    "\n",
    "# print trainn.describe()\n",
    "# print label.describe()\n",
    "# print tt.describe()\n",
    "\n",
    "# print label\n"
   ]
  },
  {
   "cell_type": "code",
   "execution_count": 3,
   "metadata": {},
   "outputs": [
    {
     "data": {
      "text/plain": [
       "(1435, 4, 4)"
      ]
     },
     "execution_count": 3,
     "metadata": {},
     "output_type": "execute_result"
    }
   ],
   "source": [
    "from random import randint,shuffle\n",
    "\n",
    "X2= []\n",
    "label2= []\n",
    "random_fetch=range(1435)\n",
    "shuffle(random_fetch)\n",
    "\n",
    "\n",
    "for i in range(1435):\n",
    "    X2.append(np.reshape(train1[random_fetch[i]],(4,4)))\n",
    "    label2.append(label1[random_fetch[i]])\n",
    "        \n",
    "X2=np.array(X2)\n",
    "label2=np.array(label2)\n",
    "\n",
    "X2.shape"
   ]
  },
  {
   "cell_type": "markdown",
   "metadata": {},
   "source": [
    "## Model Part, haven't shuffled yet"
   ]
  },
  {
   "cell_type": "code",
   "execution_count": 4,
   "metadata": {
    "collapsed": true
   },
   "outputs": [],
   "source": [
    "model = tf.keras.models.Sequential([\n",
    "  tf.keras.layers.Flatten(),\n",
    "  tf.keras.layers.Dense(64,\n",
    "                        #input_shape=(41000,),\n",
    "                        activation=tf.nn.relu), # in hidden layer, ReLU has better learning ability than sigmoid\n",
    "  tf.keras.layers.Dropout(0.2), # drop out some complex neurons randomly, avoiding overfitting\n",
    "  tf.keras.layers.Dense(64, activation=tf.nn.relu),\n",
    "  tf.keras.layers.Dropout(0.2),\n",
    "  tf.keras.layers.Dense(5, activation=tf.nn.sigmoid) #logistic output for each gas element, H2/H2O/METH/ETH/ACE\n",
    "])\n",
    "\n",
    "#todo test all optimizer\n",
    "\n",
    "# model.compile(\n",
    "#     optimizer='adam',\n",
    "#     #optimizer=tf.keras.optimizers.SGD(lr=0.001, momentum=0.9, nesterov=True),\n",
    "#                 #loss=tf.keras.losses.categorical_crossentropy,\n",
    "#                 loss='sparse_categorical_crossentropy',\n",
    "#                 #loss=tf.losses.softmax_cross_entropy,\n",
    "#                 # pred=tf.nn.softmax(tf.add(tf.matmul(X1,W),b)) ,\n",
    "#                 # cost =tf.reduce_mean(-tf.reduce_sum(label1*tf.log(pred),reduction_indices=1)),\n",
    "#                 #loss='categorical_crossentropy',\n",
    "#               metrics=['accuracy'])"
   ]
  },
  {
   "cell_type": "code",
   "execution_count": 5,
   "metadata": {
    "collapsed": true
   },
   "outputs": [],
   "source": [
    "model.compile(\n",
    "    optimizer=tf.keras.optimizers.Adam(lr=0.01),\n",
    "    #optimizer=tf.keras.optimizers.SGD(lr=0.001, momentum=0.9, nesterov=True),\n",
    "                #loss=tf.keras.losses.categorical_crossentropy,\n",
    "                #loss='sparse_categorical_crossentropy',\n",
    "    \n",
    "                loss='binary_crossentropy', #set loss as binary for logistic regression\n",
    "    \n",
    "                #loss=tf.losses.softmax_cross_entropy,\n",
    "                # pred=tf.nn.softmax(tf.add(tf.matmul(X1,W),b)) ,\n",
    "                # cost =tf.reduce_mean(-tf.reduce_sum(label1*tf.log(pred),reduction_indices=1)),\n",
    "                #loss='categorical_crossentropy',\n",
    "              metrics=['accuracy'])"
   ]
  },
  {
   "cell_type": "code",
   "execution_count": 6,
   "metadata": {
    "collapsed": true
   },
   "outputs": [],
   "source": [
    "from tensorflow.keras.callbacks import TensorBoard\n",
    "import time"
   ]
  },
  {
   "cell_type": "code",
   "execution_count": 7,
   "metadata": {
    "collapsed": true
   },
   "outputs": [],
   "source": [
    "NAME = \"enose-64*2-{}\".format(int(time.time()))\n",
    "tensorboard = TensorBoard(log_dir='logs/{}'.format(NAME))\n"
   ]
  },
  {
   "cell_type": "code",
   "execution_count": 8,
   "metadata": {
    "scrolled": true
   },
   "outputs": [
    {
     "name": "stdout",
     "output_type": "stream",
     "text": [
      "[1358   53   44 ... 1391  506   41]\n",
      "Train on 1291 samples, validate on 144 samples\n",
      "Epoch 1/50\n",
      "1291/1291 [==============================] - 0s 265us/step - loss: 0.4189 - acc: 0.8113 - val_loss: 0.3872 - val_acc: 0.7958\n",
      "Epoch 2/50\n",
      "1291/1291 [==============================] - 0s 72us/step - loss: 0.3574 - acc: 0.8217 - val_loss: 0.3430 - val_acc: 0.8111\n",
      "Epoch 3/50\n",
      "1291/1291 [==============================] - 0s 79us/step - loss: 0.3262 - acc: 0.8333 - val_loss: 0.3139 - val_acc: 0.8097\n",
      "Epoch 4/50\n",
      "1291/1291 [==============================] - 0s 89us/step - loss: 0.2942 - acc: 0.8517 - val_loss: 0.2853 - val_acc: 0.8514\n",
      "Epoch 5/50\n",
      "1291/1291 [==============================] - 0s 93us/step - loss: 0.2739 - acc: 0.8665 - val_loss: 0.2686 - val_acc: 0.8583\n",
      "Epoch 6/50\n",
      "1291/1291 [==============================] - 0s 77us/step - loss: 0.2555 - acc: 0.8710 - val_loss: 0.2529 - val_acc: 0.8653\n",
      "Epoch 7/50\n",
      "1291/1291 [==============================] - 0s 89us/step - loss: 0.2429 - acc: 0.8767 - val_loss: 0.2470 - val_acc: 0.8639\n",
      "Epoch 8/50\n",
      "1291/1291 [==============================] - 0s 81us/step - loss: 0.2355 - acc: 0.8804 - val_loss: 0.2395 - val_acc: 0.8653\n",
      "Epoch 9/50\n",
      "1291/1291 [==============================] - 0s 84us/step - loss: 0.2292 - acc: 0.8840 - val_loss: 0.2410 - val_acc: 0.8653\n",
      "Epoch 10/50\n",
      "1291/1291 [==============================] - 0s 87us/step - loss: 0.2229 - acc: 0.8864 - val_loss: 0.2468 - val_acc: 0.8542\n",
      "Epoch 11/50\n",
      "1291/1291 [==============================] - 0s 81us/step - loss: 0.2185 - acc: 0.8871 - val_loss: 0.2354 - val_acc: 0.8611\n",
      "Epoch 12/50\n",
      "1291/1291 [==============================] - 0s 83us/step - loss: 0.2125 - acc: 0.8881 - val_loss: 0.2168 - val_acc: 0.8764\n",
      "Epoch 13/50\n",
      "1291/1291 [==============================] - 0s 83us/step - loss: 0.2075 - acc: 0.8900 - val_loss: 0.2184 - val_acc: 0.8736\n",
      "Epoch 14/50\n",
      "1291/1291 [==============================] - 0s 92us/step - loss: 0.2037 - acc: 0.8911 - val_loss: 0.2116 - val_acc: 0.8764\n",
      "Epoch 15/50\n",
      "1291/1291 [==============================] - 0s 87us/step - loss: 0.1981 - acc: 0.8942 - val_loss: 0.2079 - val_acc: 0.8778\n",
      "Epoch 16/50\n",
      "1291/1291 [==============================] - 0s 78us/step - loss: 0.1953 - acc: 0.8960 - val_loss: 0.2170 - val_acc: 0.8722\n",
      "Epoch 17/50\n",
      "1291/1291 [==============================] - 0s 90us/step - loss: 0.1938 - acc: 0.8965 - val_loss: 0.1943 - val_acc: 0.8944\n",
      "Epoch 18/50\n",
      "1291/1291 [==============================] - 0s 101us/step - loss: 0.1859 - acc: 0.9027 - val_loss: 0.1977 - val_acc: 0.8847\n",
      "Epoch 19/50\n",
      "1291/1291 [==============================] - 0s 87us/step - loss: 0.1836 - acc: 0.9030 - val_loss: 0.2003 - val_acc: 0.8806\n",
      "Epoch 20/50\n",
      "1291/1291 [==============================] - 0s 83us/step - loss: 0.1791 - acc: 0.9074 - val_loss: 0.1879 - val_acc: 0.8889\n",
      "Epoch 21/50\n",
      "1291/1291 [==============================] - 0s 87us/step - loss: 0.1722 - acc: 0.9097 - val_loss: 0.1805 - val_acc: 0.9028\n",
      "Epoch 22/50\n",
      "1291/1291 [==============================] - 0s 95us/step - loss: 0.1819 - acc: 0.9067 - val_loss: 0.1898 - val_acc: 0.8931\n",
      "Epoch 23/50\n",
      "1291/1291 [==============================] - 0s 88us/step - loss: 0.1759 - acc: 0.9067 - val_loss: 0.2277 - val_acc: 0.8736\n",
      "Epoch 24/50\n",
      "1291/1291 [==============================] - 0s 88us/step - loss: 0.1739 - acc: 0.9075 - val_loss: 0.1747 - val_acc: 0.9194\n",
      "Epoch 25/50\n",
      "1291/1291 [==============================] - 0s 90us/step - loss: 0.1764 - acc: 0.9117 - val_loss: 0.1755 - val_acc: 0.9167\n",
      "Epoch 26/50\n",
      "1291/1291 [==============================] - 0s 99us/step - loss: 0.1742 - acc: 0.9129 - val_loss: 0.1682 - val_acc: 0.9222\n",
      "Epoch 27/50\n",
      "1291/1291 [==============================] - 0s 98us/step - loss: 0.1686 - acc: 0.9160 - val_loss: 0.1711 - val_acc: 0.9181\n",
      "Epoch 28/50\n",
      "1291/1291 [==============================] - 0s 68us/step - loss: 0.1591 - acc: 0.9222 - val_loss: 0.1509 - val_acc: 0.9347\n",
      "Epoch 29/50\n",
      "1291/1291 [==============================] - 0s 87us/step - loss: 0.1529 - acc: 0.9250 - val_loss: 0.1570 - val_acc: 0.9306\n",
      "Epoch 30/50\n",
      "1291/1291 [==============================] - 0s 86us/step - loss: 0.1587 - acc: 0.9229 - val_loss: 0.1781 - val_acc: 0.9083\n",
      "Epoch 31/50\n",
      "1291/1291 [==============================] - 0s 88us/step - loss: 0.1565 - acc: 0.9244 - val_loss: 0.1660 - val_acc: 0.9125\n",
      "Epoch 32/50\n",
      "1291/1291 [==============================] - 0s 81us/step - loss: 0.1424 - acc: 0.9345 - val_loss: 0.1451 - val_acc: 0.9389\n",
      "Epoch 33/50\n",
      "1291/1291 [==============================] - 0s 89us/step - loss: 0.1473 - acc: 0.9295 - val_loss: 0.1526 - val_acc: 0.9319\n",
      "Epoch 34/50\n",
      "1291/1291 [==============================] - 0s 89us/step - loss: 0.1439 - acc: 0.9332 - val_loss: 0.1561 - val_acc: 0.9208\n",
      "Epoch 35/50\n",
      "1291/1291 [==============================] - 0s 90us/step - loss: 0.1439 - acc: 0.9304 - val_loss: 0.1404 - val_acc: 0.9375\n",
      "Epoch 36/50\n",
      "1291/1291 [==============================] - 0s 90us/step - loss: 0.1425 - acc: 0.9312 - val_loss: 0.1472 - val_acc: 0.9319\n",
      "Epoch 37/50\n",
      "1291/1291 [==============================] - 0s 90us/step - loss: 0.1334 - acc: 0.9397 - val_loss: 0.1335 - val_acc: 0.9458\n",
      "Epoch 38/50\n",
      "1291/1291 [==============================] - 0s 84us/step - loss: 0.1384 - acc: 0.9357 - val_loss: 0.1332 - val_acc: 0.9389\n",
      "Epoch 39/50\n",
      "1291/1291 [==============================] - 0s 82us/step - loss: 0.1364 - acc: 0.9363 - val_loss: 0.1336 - val_acc: 0.9389\n",
      "Epoch 40/50\n",
      "1291/1291 [==============================] - 0s 97us/step - loss: 0.1303 - acc: 0.9425 - val_loss: 0.1380 - val_acc: 0.9458\n",
      "Epoch 41/50\n",
      "1291/1291 [==============================] - 0s 84us/step - loss: 0.1284 - acc: 0.9407 - val_loss: 0.1326 - val_acc: 0.9403\n",
      "Epoch 42/50\n",
      "1291/1291 [==============================] - 0s 84us/step - loss: 0.1255 - acc: 0.9435 - val_loss: 0.1696 - val_acc: 0.9278\n",
      "Epoch 43/50\n",
      "1291/1291 [==============================] - 0s 89us/step - loss: 0.1267 - acc: 0.9418 - val_loss: 0.1294 - val_acc: 0.9444\n",
      "Epoch 44/50\n",
      "1291/1291 [==============================] - 0s 81us/step - loss: 0.1208 - acc: 0.9436 - val_loss: 0.1412 - val_acc: 0.9375\n",
      "Epoch 45/50\n",
      "1291/1291 [==============================] - 0s 77us/step - loss: 0.1293 - acc: 0.9382 - val_loss: 0.1462 - val_acc: 0.9389\n",
      "Epoch 46/50\n",
      "1291/1291 [==============================] - 0s 92us/step - loss: 0.1263 - acc: 0.9436 - val_loss: 0.1266 - val_acc: 0.9431\n",
      "Epoch 47/50\n",
      "1291/1291 [==============================] - 0s 83us/step - loss: 0.1097 - acc: 0.9529 - val_loss: 0.1243 - val_acc: 0.9486\n",
      "Epoch 48/50\n",
      "1291/1291 [==============================] - 0s 83us/step - loss: 0.1194 - acc: 0.9456 - val_loss: 0.1260 - val_acc: 0.9444\n",
      "Epoch 49/50\n",
      "1291/1291 [==============================] - 0s 87us/step - loss: 0.1108 - acc: 0.9506 - val_loss: 0.1182 - val_acc: 0.9486\n",
      "Epoch 50/50\n",
      "1291/1291 [==============================] - 0s 79us/step - loss: 0.1077 - acc: 0.9510 - val_loss: 0.1312 - val_acc: 0.9486\n",
      "1435/1435 [==============================] - 0s 18us/step\n"
     ]
    },
    {
     "data": {
      "text/plain": [
       "[0.11231576739080276, 0.9560975613909731]"
      ]
     },
     "execution_count": 8,
     "metadata": {},
     "output_type": "execute_result"
    }
   ],
   "source": [
    "#X1=np.tile(X_train,(100,1,1))\n",
    "#label1=np.tile(label,(100,1))\n",
    "\n",
    "## if run 1110 samples, make sure the input labels are correct and not modified\n",
    "\n",
    "# gpu_options = tf.GPUOptions(allow_growth=True)\n",
    "# sess = tf.Session(config=tf.ConfigProto(gpu_options=gpu_options))\n",
    "\n",
    "from random import randint,shuffle\n",
    "\n",
    "X2= []\n",
    "label2= []\n",
    "random_fetch=range(1435)\n",
    "shuffle(random_fetch)\n",
    "\n",
    "\n",
    "for i in range(1435):\n",
    "    X2.append(np.reshape(train1[random_fetch[i]],(4,4)))\n",
    "    label2.append(labell[random_fetch[i]])\n",
    "        \n",
    "X2=np.array(X2)\n",
    "label2=np.array(label2)\n",
    "\n",
    "np.set_printoptions(threshold=10)\n",
    "random_fetch=np.array(random_fetch)\n",
    "print(random_fetch)\n",
    "model.fit(X2, label2, batch_size=20, validation_split=0.1, epochs=50, shuffle=0, callbacks=[tensorboard]) # this shuffle for each epochs, we dont wantit\n",
    "model.evaluate(X2,label2)\n",
    "\n",
    "# print label1[368:409]"
   ]
  },
  {
   "cell_type": "code",
   "execution_count": 9,
   "metadata": {},
   "outputs": [
    {
     "name": "stdout",
     "output_type": "stream",
     "text": [
      "Automatically created module for IPython interactive environment\n",
      "Confusion matrix, without normalization\n",
      "[[13  0  0]\n",
      " [ 0 10  6]\n",
      " [ 0  0  9]]\n",
      "Normalized confusion matrix\n",
      "[[1.   0.   0.  ]\n",
      " [0.   0.62 0.38]\n",
      " [0.   0.   1.  ]]\n"
     ]
    },
    {
     "data": {
      "image/png": "[encoded data removed]",
      "text/plain": [
       "<matplotlib.figure.Figure at 0x7fbd4c180a10>"
      ]
     },
     "metadata": {},
     "output_type": "display_data"
    },
    {
     "data": {
      "image/png": "[encoded data removed]",
      "text/plain": [
       "<matplotlib.figure.Figure at 0x7fbd4c1503d0>"
      ]
     },
     "metadata": {},
     "output_type": "display_data"
    }
   ],
   "source": [
    "\n",
    "#plot\n",
    "\n",
    "print(__doc__)\n",
    "\n",
    "import itertools\n",
    "import numpy as np\n",
    "import matplotlib.pyplot as plt\n",
    "\n",
    "from sklearn import svm, datasets\n",
    "from sklearn.model_selection import train_test_split\n",
    "from sklearn.metrics import confusion_matrix\n",
    "\n",
    "# import some data to play with\n",
    "iris = datasets.load_iris()\n",
    "X = iris.data\n",
    "y = iris.target\n",
    "class_names = iris.target_names\n",
    "\n",
    "# Split the data into a training set and a test set\n",
    "X_train, X_test, y_train, y_test = train_test_split(X, y, random_state=0)\n",
    "\n",
    "# Run classifier, using a model that is too regularized (C too low) to see\n",
    "# the impact on the results\n",
    "classifier = svm.SVC(kernel='linear', C=0.01)\n",
    "y_pred = classifier.fit(X_train, y_train).predict(X_test)\n",
    "\n",
    "\n",
    "def plot_confusion_matrix(cm, classes,\n",
    "                          normalize=False,\n",
    "                          title='Confusion matrix',\n",
    "                          cmap=plt.cm.Blues):\n",
    "    \"\"\"\n",
    "    This function prints and plots the confusion matrix.\n",
    "    Normalization can be applied by setting `normalize=True`.\n",
    "    \"\"\"\n",
    "    if normalize:\n",
    "        cm = cm.astype('float') / cm.sum(axis=1)[:, np.newaxis]\n",
    "        print(\"Normalized confusion matrix\")\n",
    "    else:\n",
    "        print('Confusion matrix, without normalization')\n",
    "\n",
    "    print(cm)\n",
    "\n",
    "    plt.imshow(cm, interpolation='nearest', cmap=cmap)\n",
    "    plt.title(title)\n",
    "    plt.colorbar()\n",
    "    tick_marks = np.arange(len(classes))\n",
    "    plt.xticks(tick_marks, classes, rotation=45)\n",
    "    plt.yticks(tick_marks, classes)\n",
    "\n",
    "    fmt = '.2f' if normalize else 'd'\n",
    "    thresh = cm.max() / 2.\n",
    "    for i, j in itertools.product(range(cm.shape[0]), range(cm.shape[1])):\n",
    "        plt.text(j, i, format(cm[i, j], fmt),\n",
    "                 horizontalalignment=\"center\",\n",
    "                 color=\"white\" if cm[i, j] > thresh else \"black\")\n",
    "\n",
    "    plt.ylabel('True label')\n",
    "    plt.xlabel('Predicted label')\n",
    "    plt.tight_layout()\n",
    "\n",
    "\n",
    "# Compute confusion matrix\n",
    "cnf_matrix = confusion_matrix(y_test, y_pred)\n",
    "np.set_printoptions(precision=2)\n",
    "\n",
    "# Plot non-normalized confusion matrix\n",
    "plt.figure()\n",
    "plot_confusion_matrix(cnf_matrix, classes=class_names,\n",
    "                      title='Confusion matrix, without normalization')\n",
    "\n",
    "# Plot normalized confusion matrix\n",
    "plt.figure()\n",
    "plot_confusion_matrix(cnf_matrix, classes=class_names, normalize=True,\n",
    "                      title='Normalized confusion matrix')\n",
    "\n",
    "plt.show()\n"
   ]
  },
  {
   "cell_type": "code",
   "execution_count": 10,
   "metadata": {
    "collapsed": true
   },
   "outputs": [],
   "source": [
    "from random import randint,shuffle #cnn\n",
    "X2= []\n",
    "label2= []\n",
    "random_fetch=range(1435)\n",
    "shuffle(random_fetch)\n",
    "\n",
    "for i in range(1435):\n",
    "    X2.append(np.reshape(train1[random_fetch[i]],(4,4)))\n",
    "    label2.append(labell[random_fetch[i]])\n",
    "        \n",
    "X2=np.array(X2)\n",
    "label2=np.array(label2)\n",
    "trainn=X2"
   ]
  },
  {
   "cell_type": "code",
   "execution_count": 11,
   "metadata": {},
   "outputs": [
    {
     "data": {
      "text/plain": [
       "(1435, 5)"
      ]
     },
     "execution_count": 11,
     "metadata": {},
     "output_type": "execute_result"
    }
   ],
   "source": [
    "x_train=trainn\n",
    "y_train=label2\n",
    "# x_train = x_train.astype(np.float32) / 255\n",
    "x_train=x_train.astype(np.float32)\n",
    "x_train = np.expand_dims(x_train, -1)\n",
    "# y_train = tf.one_hot(y_train, 1)\n",
    "# y_train=label\n",
    "# x_train.shape\n",
    "y_train.shape"
   ]
  },
  {
   "cell_type": "markdown",
   "metadata": {},
   "source": [
    "## Data Visualization"
   ]
  },
  {
   "cell_type": "code",
   "execution_count": 15,
   "metadata": {},
   "outputs": [
    {
     "name": "stdout",
     "output_type": "stream",
     "text": [
      "(144, 5)\n",
      "(1435, 4, 4)\n"
     ]
    },
    {
     "data": {
      "text/plain": [
       "144"
      ]
     },
     "execution_count": 15,
     "metadata": {},
     "output_type": "execute_result"
    }
   ],
   "source": [
    "np.set_printoptions(threshold='none')\n",
    "test_labels = label2[1291:1435,:]\n",
    "rounded_predictions = model.predict(X2[1291:1435,:])\n",
    "# print test_labels\n",
    "print rounded_predictions.shape\n",
    "print (X2.shape)\n",
    "len(rounded_predictions)"
   ]
  },
  {
   "cell_type": "code",
   "execution_count": null,
   "metadata": {},
   "outputs": [],
   "source": [
    "np.set_printoptions(threshold='none')\n",
    "test_labels = label2[1291:1435,:]\n",
    "rounded_predictions = model.predict(X2[1291:1435,:])\n",
    "# print test_labels\n",
    "print rounded_predictions.shape\n",
    "len(rounded_predictions)\n",
    "\n",
    "trans_predictions=np.zeros((144,5),dtype=int)\n",
    "\n",
    "for i in range(len(rounded_predictions)): # i, the num of stages\n",
    "    for t in range(5):\n",
    "        if rounded_predictions[i,t]>=0.5:\n",
    "            trans_predictions[i,t]=1\n",
    "            \n",
    "    if list(trans_predictions[i,:])==[0,0,0,0,0]:\n",
    "        for t in range(5):\n",
    "            if rounded_predictions[i,t]>=0.4:\n",
    "                trans_predictions[i,t]=1\n",
    "                \n",
    "#         else trans_perdictions(i,t)=0\n",
    "print trans_predictions.shape\n",
    "\n",
    "MCM = np.zeros((5,5),dtype=int)\n",
    "for i in range(len(rounded_predictions)):\n",
    "#     if list(trans_predictions[i,:])==[0,0,0,0,0]:\n",
    "#         pre_error=list(rounded_predictions[i,:])\n",
    "#         raise ValueError(\"Model prediction comes up with error. The error num is %s, with rounded as %s\" % (i,pre_error)\n",
    "#                        )\n",
    "    for t in range(5):\n",
    "        if test_labels[i,t] and trans_predictions[i,t]: #True-positive, actually for multiple class there are no po/ne\n",
    "            MCM[t,t]=MCM[t,t]+1\n",
    "        elif test_labels[i,t]:  # False\n",
    "            for t2 in range(5):\n",
    "                if trans_predictions[i,t2]:\n",
    "                    MCM[t,t2]=MCM[t,t2]+1  \n",
    "        \n",
    "        \n",
    "print MCM    \n",
    "        \n",
    "        \n"
   ]
  },
  {
   "cell_type": "code",
   "execution_count": null,
   "metadata": {},
   "outputs": [],
   "source": [
    "np.set_printoptions(precision=2)\n",
    "gas_names=np.array(['H2','H2O','Methanol','Ethanol','Acetone'])\n",
    "plt.figure()\n",
    "plot_confusion_matrix(MCM, classes=gas_names,\n",
    "                     title='MCM without normalization')\n",
    "plt.show()"
   ]
  },
  {
   "cell_type": "code",
   "execution_count": null,
   "metadata": {},
   "outputs": [],
   "source": [
    "# print trans_predictions[29,:]\n",
    "print rounded_predictions[29,:]\n",
    "# print trans_predictions\n",
    "print test_labels[29,:]"
   ]
  },
  {
   "cell_type": "code",
   "execution_count": null,
   "metadata": {},
   "outputs": [],
   "source": [
    "!tensorboard logdir='/home/hzy/MLP Test3.py'\n"
   ]
  },
  {
   "cell_type": "markdown",
   "metadata": {},
   "source": [
    "## Try CNN in Keras"
   ]
  },
  {
   "cell_type": "code",
   "execution_count": null,
   "metadata": {},
   "outputs": [],
   "source": [
    "import tensorflow\n",
    "from tensorflow.keras.models import Sequential\n",
    "from tensorflow.keras.layers import Dense, Dropout, Flatten, Input\n",
    "from tensorflow.keras.layers import Conv2D, MaxPooling2D, BatchNormalization\n",
    "import numpy as np\n",
    "import os\n",
    "import tempfile\n",
    "\n",
    "import tensorflow.keras\n",
    "from tensorflow.keras import backend as K\n",
    "from tensorflow.keras import layers\n",
    "from tensorflow.keras.datasets import mnist\n",
    "\n",
    "import tensorflow as tf\n",
    "\n",
    "\n",
    "if K.backend() != 'tensorflow':\n",
    "    raise RuntimeError('This example can only run with the TensorFlow backend,'\n",
    "                       ' because it requires the Datset API, which is not'\n",
    "                       ' supported on other platforms.')\n",
    "\n",
    "\n",
    "def cnn_layers(inputs):\n",
    "    x = layers.Conv2D(32, (3, 3),\n",
    "                      activation='relu', padding='valid')(inputs)\n",
    "    x = layers.MaxPooling2D(pool_size=(2, 2))(x)\n",
    "    x = layers.Conv2D(64, (3, 3), activation='relu')(x)\n",
    "    x = layers.MaxPooling2D(pool_size=(2, 2))(x)\n",
    "    x = layers.Flatten()(x)\n",
    "    x = layers.Dense(512, activation='relu')(x)\n",
    "    x = layers.Dropout(0.5)(x)\n",
    "    predictions = layers.Dense(num_classes,\n",
    "                               activation='sigmoid',\n",
    "                               name='x_train_out')(x)\n",
    "    return predictions\n",
    "\n",
    "SIZE = (4,4)\n",
    "\n",
    "batch_size = 24\n",
    "buffer_size = 100\n",
    "steps_per_epoch = int(np.ceil(1435 / float(batch_size)))  # = 469\n",
    "epochs = 5\n",
    "num_classes = 5\n",
    "#Create the dataset and its associated one-shot iterator\n",
    "\n",
    "dataset = tf.data.Dataset.from_tensor_slices((x_train, y_train))\n",
    "dataset = dataset.repeat()\n",
    "dataset = dataset.shuffle(buffer_size)\n",
    "dataset = dataset.batch(batch_size)\n",
    "iterator = dataset.make_one_shot_iterator()\n",
    "\n",
    "# Model creation using tensors from the get_next() graph node.\n",
    "inputs, targets = iterator.get_next()\n",
    "model_input = tensorflow.keras.layers.Input(tensor=inputs)\n",
    "model_output = cnn_layers(model_input)\n",
    "train_model = keras.models.Model(inputs=model_input, outputs=model_output)\n",
    "\n",
    "train_model.compile(optimizer=keras.optimizers.RMSprop(lr=2e-3, decay=1e-5),\n",
    "                    loss='categorical_crossentropy',\n",
    "                    metrics=['accuracy'],\n",
    "                    target_tensors=[targets])\n"
   ]
  },
  {
   "cell_type": "code",
   "execution_count": null,
   "metadata": {
    "collapsed": true
   },
   "outputs": [],
   "source": []
  },
  {
   "cell_type": "code",
   "execution_count": null,
   "metadata": {
    "collapsed": true
   },
   "outputs": [],
   "source": []
  },
  {
   "cell_type": "code",
   "execution_count": null,
   "metadata": {
    "collapsed": true
   },
   "outputs": [],
   "source": [
    "list(trans_predictions[3,:])\n",
    "# np.array([0,0])"
   ]
  },
  {
   "cell_type": "code",
   "execution_count": null,
   "metadata": {
    "collapsed": true
   },
   "outputs": [],
   "source": [
    "trans_predictions=np.zeros((143,5),dtype=int)\n",
    "trans_predictions\n",
    "len(rounded_predictions)"
   ]
  },
  {
   "cell_type": "code",
   "execution_count": null,
   "metadata": {
    "collapsed": true
   },
   "outputs": [],
   "source": [
    "from collections import Sequence\n",
    "from scipy.sparse.base import spmatrix\n",
    "\n",
    "cm = multilabel_confusion_matrix(test_labels,rounded_predictions)"
   ]
  },
  {
   "cell_type": "code",
   "execution_count": null,
   "metadata": {
    "collapsed": true
   },
   "outputs": [],
   "source": [
    "print label2[18]\n",
    "X2.shape\n",
    "test=np.reshape(X2[18],[1,4,4])"
   ]
  },
  {
   "cell_type": "code",
   "execution_count": null,
   "metadata": {
    "collapsed": true
   },
   "outputs": [],
   "source": [
    "model.predict(test)"
   ]
  },
  {
   "cell_type": "code",
   "execution_count": null,
   "metadata": {
    "collapsed": true
   },
   "outputs": [],
   "source": [
    "import sklearn\n",
    "sklearn.__version__"
   ]
  },
  {
   "cell_type": "markdown",
   "metadata": {},
   "source": [
    " ### Appently, the data performance between meth part, ace part and eth part are not that good, i.e. if we use single raw data set extracting from a single experience. The performance would be great (shown as below) because of the data correlation and sigularity. \n",
    "\n",
    "### In a word, we can not determine if the data presented from our experiments can differ from each other that well. That is a very significant prerequsite. Assuming there are better network structure to explore, I think we can enhance this MLP with the following aspects.\n",
    "\n",
    "## 1. More reasonable normalization method. Maybe instead of using the last time point, there are better solution.\n",
    "## 2. Adding more layers as well as tuning parameters for better performance. \n",
    "## 3. When we do shuffling, try to use random search instead of grid seach.\n",
    "## 4. Increasing the number of samples in trainingSet, however it has been experienced before and it was not that effective."
   ]
  },
  {
   "cell_type": "code",
   "execution_count": null,
   "metadata": {
    "collapsed": true
   },
   "outputs": [],
   "source": [
    "train_a=np.reshape(X1[410:820,:,:],[410,16]) # acetone\n",
    "label_a=label1[410:820]\n",
    "train_vi=pd.DataFrame(train_a)\n",
    "train_vi.describe()\n",
    "print label_a\n",
    "import matplotlib.pyplot as plt\n",
    "train_vi.plot(kind='scatter',x=2,y=1)\n",
    "plt.show()"
   ]
  },
  {
   "cell_type": "code",
   "execution_count": null,
   "metadata": {
    "collapsed": true
   },
   "outputs": [],
   "source": [
    "train_a=X1[410:820,:,:] # acetone\n",
    "label_a=label1[410:820]\n",
    "# print train_a\n",
    "# print label_a"
   ]
  },
  {
   "cell_type": "code",
   "execution_count": null,
   "metadata": {
    "collapsed": true,
    "scrolled": true
   },
   "outputs": [],
   "source": [
    "np.set_printoptions(threshold='none')\n",
    "print train_a.shape\n",
    "print label_a.shape\n",
    "print label_a #acetone\n",
    "print X.shape"
   ]
  },
  {
   "cell_type": "code",
   "execution_count": null,
   "metadata": {
    "collapsed": true,
    "scrolled": true
   },
   "outputs": [],
   "source": [
    "a=range(10)\n",
    "shuffle(a)\n",
    "print a\n",
    "np.set_printoptions(threshold='none')\n",
    "label1"
   ]
  },
  {
   "cell_type": "code",
   "execution_count": null,
   "metadata": {
    "collapsed": true
   },
   "outputs": [],
   "source": [
    "#shuffling the cycles for 410,acetone\n",
    "\n",
    "from random import randint,shuffle\n",
    "train_a=X1[410:820,:,:] # acetone\n",
    "label_a=label1[410:820]\n",
    "\n",
    "X2= []\n",
    "label2= []\n",
    "random_fetch=range(10)\n",
    "shuffle(random_fetch)\n",
    "train_ace=X1\n",
    "\n",
    "for i in range(10):\n",
    "    for k in range(41):\n",
    "        X2.append(np.reshape(train_a[random_fetch[i]*41+k],(4,4)))\n",
    "        label2.append(label_a[random_fetch[i]*41+k])   \n",
    "    \n",
    "X2=np.array(X2)\n",
    "label2=np.array(label2)\n",
    "\n",
    "\n",
    "print random_fetch\n",
    "np.set_printoptions(threshold=3)\n",
    "print X2\n",
    "print label2"
   ]
  },
  {
   "cell_type": "code",
   "execution_count": null,
   "metadata": {
    "collapsed": true
   },
   "outputs": [],
   "source": [
    "tess=np.array([[1,2,3],[4,5,6]])\n",
    "t=np.tile(tess,(2,1))\n",
    "t"
   ]
  },
  {
   "cell_type": "code",
   "execution_count": null,
   "metadata": {
    "collapsed": true
   },
   "outputs": [],
   "source": [
    "np.set_printoptions(threshold='none')\n",
    "print label_a\n",
    "train_sub=train_a[0:369,:,:]\n",
    "label_sub=label_a[0:369]  \n",
    "print label_a[409]"
   ]
  },
  {
   "cell_type": "code",
   "execution_count": null,
   "metadata": {
    "collapsed": true
   },
   "outputs": [],
   "source": [
    "# gpu_options = tf.GPUOptions(allow_growth=True)\n",
    "# sess = tf.Session(config=tf.ConfigProto(gpu_options=gpu_options))\n",
    "from random import randint,shuffle\n",
    "\n",
    "train_a=X2\n",
    "label_a=label2\n",
    "\n",
    "model = tf.keras.models.Sequential([\n",
    "  tf.keras.layers.Flatten(),\n",
    "  tf.keras.layers.Dense(64,\n",
    "                        #input_shape=(41000,),\n",
    "                        activation=tf.nn.relu),\n",
    "  tf.keras.layers.Dropout(0.2),\n",
    "  tf.keras.layers.Dense(64, activation=tf.nn.relu),\n",
    "  tf.keras.layers.Dropout(0.2),\n",
    "  tf.keras.layers.Dense(3, activation=tf.nn.softmax)\n",
    "])\n",
    "\n",
    "for i in range(410):\n",
    "    if label_a[i]==3:\n",
    "        label_a[i]=1\n",
    "    elif label_a[i]==4:\n",
    "        label_a[i]=2\n",
    "\n",
    "# tiling the data\n",
    "train_sub=train_a[0:369,:,:]\n",
    "train_lab=label_a[0:369]\n",
    "valid_sub=train_a[369:410,:,:]\n",
    "valid_lab=label_a[369:410]\n",
    "m1=np.tile(train_sub,(100,1,1))\n",
    "m2=np.tile(valid_sub,(100,1,1))\n",
    "m3=np.tile(train_lab,(100,))\n",
    "m4=np.tile(valid_lab,(100,))\n",
    "label_input=np.concatenate([m3,m4])\n",
    "train_input=np.concatenate([m1,m2])\n",
    "\n",
    "train_input1=np.tile(train_a,(100,1,1))\n",
    "label_input1=np.tile(label_a,(100,))\n",
    "\n",
    "\n",
    "np.set_printoptions(threshold='none')\n",
    "\n",
    "model.compile(\n",
    "    optimizer='adam',\n",
    "    #optimizer=tf.keras.optimizers.SGD(lr=0.001, momentum=0.9, nesterov=True),\n",
    "                #loss=tf.keras.losses.categorical_crossentropy,\n",
    "                loss='sparse_categorical_crossentropy',\n",
    "                #loss=tf.losses.softmax_cross_entropy,\n",
    "                # pred=tf.nn.softmax(tf.add(tf.matmul(X1,W),b)) ,\n",
    "                # cost =tf.reduce_mean(-tf.reduce_sum(label1*tf.log(pred),reduction_indices=1)),\n",
    "                #loss='categorical_crossentropy',\n",
    "              metrics=['accuracy'])\n",
    "model.fit(train_input, label_input, validation_split=0.1, epochs=5)\n",
    "model.evaluate(train_input,label_input)\n",
    "\n",
    "# print label1[368:409]"
   ]
  },
  {
   "cell_type": "code",
   "execution_count": null,
   "metadata": {
    "collapsed": true
   },
   "outputs": [],
   "source": [
    "label_input.shape"
   ]
  },
  {
   "cell_type": "code",
   "execution_count": null,
   "metadata": {
    "collapsed": true
   },
   "outputs": [],
   "source": [
    "label_a.s"
   ]
  },
  {
   "cell_type": "code",
   "execution_count": null,
   "metadata": {
    "collapsed": true
   },
   "outputs": [],
   "source": [
    "tess=[]\n",
    "tess=np.array(tess)"
   ]
  },
  {
   "cell_type": "code",
   "execution_count": null,
   "metadata": {
    "collapsed": true
   },
   "outputs": [],
   "source": [
    "tess"
   ]
  },
  {
   "cell_type": "code",
   "execution_count": null,
   "metadata": {
    "collapsed": true
   },
   "outputs": [],
   "source": [
    "sess.close()"
   ]
  },
  {
   "cell_type": "code",
   "execution_count": null,
   "metadata": {
    "collapsed": true
   },
   "outputs": [],
   "source": [
    "label1"
   ]
  },
  {
   "cell_type": "code",
   "execution_count": null,
   "metadata": {
    "collapsed": true
   },
   "outputs": [],
   "source": [
    "sess = tf.Session()\n",
    "#print sess.run(model.fit)\n",
    "sess.close()"
   ]
  },
  {
   "cell_type": "code",
   "execution_count": null,
   "metadata": {
    "collapsed": true
   },
   "outputs": [],
   "source": [
    "test=np.reshape(X1[399],(1,4,4))"
   ]
  },
  {
   "cell_type": "code",
   "execution_count": null,
   "metadata": {
    "collapsed": true
   },
   "outputs": [],
   "source": [
    "test.shape"
   ]
  },
  {
   "cell_type": "code",
   "execution_count": null,
   "metadata": {
    "collapsed": true
   },
   "outputs": [],
   "source": [
    "np.set_printoptions(threshold='none')\n",
    "#label1\n",
    "y"
   ]
  },
  {
   "cell_type": "code",
   "execution_count": null,
   "metadata": {
    "collapsed": true
   },
   "outputs": [],
   "source": [
    "label1[399]"
   ]
  },
  {
   "cell_type": "code",
   "execution_count": null,
   "metadata": {
    "collapsed": true
   },
   "outputs": [],
   "source": [
    "print(model.predict(test,batch_size=10,verbose=0))"
   ]
  },
  {
   "cell_type": "code",
   "execution_count": null,
   "metadata": {
    "collapsed": true
   },
   "outputs": [],
   "source": [
    "print(model.predict_classes(test,batch_size=10,verbose=0))"
   ]
  }
 ],
 "metadata": {
  "kernelspec": {
   "display_name": "Python 2",
   "language": "python",
   "name": "python2"
  },
  "language_info": {
   "codemirror_mode": {
    "name": "ipython",
    "version": 2
   },
   "file_extension": ".py",
   "mimetype": "text/x-python",
   "name": "python",
   "nbconvert_exporter": "python",
   "pygments_lexer": "ipython2",
   "version": "2.7.15"
  }
 },
 "nbformat": 4,
 "nbformat_minor": 2
}
